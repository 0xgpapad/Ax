{
 "cells": [
  {
   "cell_type": "code",
   "execution_count": 2,
   "id": "fdb7494d",
   "metadata": {},
   "outputs": [],
   "source": [
    "# Ax wrappers for BoTorch components\n",
    "from ax.models.torch.botorch_modular.model import BoTorchModel\n",
    "from ax.models.torch.botorch_modular.surrogate import Surrogate\n",
    "from ax.models.torch.botorch_modular.acquisition import Acquisition\n",
    "\n",
    "# Ax data tranformation layer\n",
    "from ax.modelbridge.torch import TorchModelBridge\n",
    "from ax.modelbridge.registry import Cont_X_trans, Y_trans, Models\n",
    "\n",
    "# Test Ax objects\n",
    "from ax.utils.testing.core_stubs import get_branin_experiment, get_branin_data\n",
    "\n",
    "# BoTorch components\n",
    "from botorch.models.model import Model\n",
    "from botorch.models.gp_regression import FixedNoiseGP, SingleTaskGP\n",
    "from botorch.acquisition.monte_carlo import qExpectedImprovement, qNoisyExpectedImprovement\n",
    "from gpytorch.mlls.exact_marginal_log_likelihood import ExactMarginalLogLikelihood"
   ]
  },
  {
   "cell_type": "markdown",
   "id": "b37593d1",
   "metadata": {},
   "source": [
    "# Setup and Usage of BoTorch Models in Ax\n",
    "\n",
    "Ax provides a set of flexible wrapper abstractions to mix-and-match BoTorch components like `Model` and `AcquisitionFunction` and combine them into a single `Model` object in Ax. The wrapper abstractions: `Surrogate`, `Acquisition`, and `BoTorchModel` – are located in `ax/models/torch/botorch_modular` directory and aim to encapsulate boilerplate code that interfaces between Ax and BoTorch. This functionality is in beta-release and still evolving.\n",
    "\n",
    "This tutorial walks through setting up a custom combination of BoTorch components in Ax in following steps:\n",
    "\n",
    "1. **Quick-start example of `BoTorchModel` use**\n",
    "1. **`BoTorchModel` = `Surrogate` + `Acquisition` (overview)**\n",
    "   1. Example showing all possible options\n",
    "   2. Example with minimal options that uses the defaults\n",
    "   3. Using pre-constructed BoTorch Model (e.g. in research or development)\n",
    "   4. Surrogate and Acquisition Q&A\n",
    "2. **I know which Botorch Model and AcquisitionFunction I'd like to combine in Ax. How do set this up?**\n",
    "   1. TODO\n",
    "3. **Using `Models.BOTORCH_MODULAR`** (convenience wrapper that enables storage and resumability)\n",
    "4. **Utilizing `BoTorchModel` in generation strategies** (abstraction that allows to chain models together and use them in Ax Service API etc.)\n",
    "5. **Customizing a `Surrogate` or `Acquisition`** (for cases where existing subcomponent classes are not sufficient)"
   ]
  },
  {
   "cell_type": "markdown",
   "id": "ebf159c8",
   "metadata": {},
   "source": [
    "## 1. Quick-start example\n",
    "\n",
    "Here we set up a `BoTorchModel` with `SingleTaskGP` with `qNoisyExpectedImprovement`, one of the most popular combinations in Ax:"
   ]
  },
  {
   "cell_type": "code",
   "execution_count": 12,
   "id": "b14ad65d",
   "metadata": {},
   "outputs": [],
   "source": [
    "experiment = get_branin_experiment(with_trial=True)\n",
    "data = get_branin_data(trials=[experiment.trials[0]])"
   ]
  },
  {
   "cell_type": "code",
   "execution_count": 13,
   "id": "b2644bc9",
   "metadata": {},
   "outputs": [
    {
     "name": "stderr",
     "output_type": "stream",
     "text": [
      "[INFO 06-09 17:03:23] ax.modelbridge.transforms.standardize_y: Outcome branin is constant, within tolerance.\n"
     ]
    }
   ],
   "source": [
    "# `Models` automatically selects a model + model bridge combination. \n",
    "# For `BOTORCH_MODULAR`, it will select `BoTorchModel` and `TorchModelBridge`.\n",
    "model_bridge_with_GPKG = Models.BOTORCH_MODULAR(\n",
    "    experiment=experiment,\n",
    "    data=data,\n",
    "    surrogate=Surrogate(SingleTaskGP),  # Optional, will use default if unspecified\n",
    "    botorch_acqf_class=qNoisyExpectedImprovement,  # Optional, will use default if unspecified\n",
    ")"
   ]
  },
  {
   "cell_type": "markdown",
   "id": "25715f07",
   "metadata": {},
   "source": [
    "Now we can use this model to generate candidates (`gen`), predict outcome at a point (`predict`), or evaluate acquisition function value at a given point (`evaluate_acquisition_function`)."
   ]
  },
  {
   "cell_type": "code",
   "execution_count": 15,
   "id": "af417ad2",
   "metadata": {},
   "outputs": [
    {
     "data": {
      "text/plain": [
       "Arm(parameters={'x1': 10.0, 'x2': 15.0})"
      ]
     },
     "execution_count": 15,
     "metadata": {},
     "output_type": "execute_result"
    }
   ],
   "source": [
    "generator_run = model_bridge_with_GPKG.gen(n=1)\n",
    "generator_run.arms[0]"
   ]
  },
  {
   "cell_type": "markdown",
   "id": "dcdda887",
   "metadata": {},
   "source": [
    "-----\n",
    "Before you read the rest of this tutorial:\n",
    "\n",
    "- Note that the concept of ‘model’ is Ax is somewhat a misnomer; we use ['model'](https://ax.dev/docs/glossary.html#model) to refer to an optimization setup capable of producing candidate points for optimization (and often capable of being fit to data, with exception for quasi-random generators). See [Models documentation page](https://ax.dev/docs/models.html) for more information.\n",
    "- Learn about `ModelBridge` in Ax, as users should rarely be interacting with a `Model` object directly (more about ModelBridge, a data transformation layer in Ax, [here](https://ax.dev/docs/models.html#deeper-dive-organization-of-the-modeling-stack))."
   ]
  },
  {
   "cell_type": "markdown",
   "id": "e4462906",
   "metadata": {},
   "source": [
    "## 2. BoTorchModel = Surrogate + Acquisition\n",
    "\n",
    "A `BoTorchModel` in Ax consists of two main subcomponents: a surrogate model and an acquisition function. A surrogate model is represented as an instance of Ax’s `Surrogate` class, which is a wrapper around BoTorch's `Model` class. The acquisition function is represented as an instance of Ax’s `Acquisition` class, a wrapper around BoTorch's `AcquisitionFunction` class.\n",
    "\n",
    "### 2A. Example with all the options\n",
    "Below are the full set of configurable settings of a `BoTorchModel` with their descriptions:"
   ]
  },
  {
   "cell_type": "code",
   "execution_count": null,
   "id": "0837b59f",
   "metadata": {},
   "outputs": [],
   "source": [
    "model = BoTorchModel(\n",
    "    # Optional `Surrogate` specification to use instead of default\n",
    "    surrogate=Surrogate(\n",
    "        # BoTorch `Model` type\n",
    "        botorch_model_class=FixedNoiseGP,\n",
    "        # Optional, MLL class with which to optimize model parameters\n",
    "        mll_class=ExactMarginalLogLikelihood,\n",
    "        # Optional, dictionary of keyword arguments to underlying \n",
    "        # BoTorch `Model` constructor\n",
    "        model_options={}\n",
    "    ),\n",
    "    # Optional options to pass to auto-picked `Surrogate` if not\n",
    "    # specifying the `surrogate` argument\n",
    "    surrogate_options={},\n",
    "    \n",
    "    # Optional BoTorch `AcquisitionFunction` to use instead of default\n",
    "    botorch_acqf_class=qExpectedImprovement,\n",
    "    # Optional dict of keyword arguments, passed to the input \n",
    "    # constructor for the given BoTorch `AcquisitionFunction`\n",
    "    acquisition_options={},\n",
    "    # Optional Ax `Acquisition` subclass if the given BoTorch\n",
    "    # `AcquisitionFunction` require\n",
    "    acquisition_class=None,\n",
    "    \n",
    "    # Less common model settings shown with default values, refer\n",
    "    # to `BoTorchModel` documentation for detail\n",
    "    refit_on_update=True,\n",
    "    refit_on_cv=False,\n",
    "    warm_start_refit=True,\n",
    ")"
   ]
  },
  {
   "cell_type": "markdown",
   "id": "e892c1e5",
   "metadata": {},
   "source": [
    "## 2B. Example that uses defaults and requires no options\n",
    "\n",
    "BoTorchModel does not always require surrogate and acquisition specification. If instantiated without one or both components specified, defaults are selected based on properties of experiment and data (see Appendix 2 for auto-selection logic)."
   ]
  },
  {
   "cell_type": "code",
   "execution_count": null,
   "id": "9c551c31",
   "metadata": {},
   "outputs": [],
   "source": [
    "# The surrogate is not specified, so it will be auto-selected\n",
    "# during `model.fit`.\n",
    "GPEI_model = BoTorchModel(botorch_acqf_class=qExpectedImprovement)\n",
    "\n",
    "# The acquisition class is not specified, so it will be \n",
    "# auto-selected during `model.gen` or `model.evaluate_acquisition`\n",
    "GPEI_model = BoTorchModel(surrogate=Surrogate(FixedNoiseGP))\n",
    "\n",
    "# Both the surrogate and acquisition class will be auto-selected.\n",
    "GPEI_model = BoTorchModel()"
   ]
  },
  {
   "cell_type": "markdown",
   "id": "948d9b0d",
   "metadata": {},
   "source": [
    "## 2C. `Surrogate` from pre-instantiated BoTorch `Model`\n",
    "\n",
    "Alternatively, for BoTorch `Model`-s that require complex instantiation procedures (or is in development stage), leverage the `from_botorch` instantiation method of Surrogate:"
   ]
  },
  {
   "cell_type": "code",
   "execution_count": 19,
   "id": "8412f791",
   "metadata": {},
   "outputs": [],
   "source": [
    "from_botorch_model = BoTorchModel(\n",
    "    surrogate=Surrogate.from_botorch(\n",
    "        # BoTorch `Model` instance, with training data already set\n",
    "        model=...,  \n",
    "        # Optional, MLL class with which to optimize model parameters\n",
    "        mll_class=ExactMarginalLogLikelihood,\n",
    "    )\n",
    ")"
   ]
  },
  {
   "cell_type": "markdown",
   "id": "b764fe4b",
   "metadata": {},
   "source": [
    "## 2D. `Surrogate` and `Acquisition` Q&A\n",
    "\n",
    "**Why is `surrogate` argument expected to be an instance, but `botorch_acqf_class` –– a class?** Because a BoTorch `AcquisitionFunction` object (and therefore its Ax wrapper, `Acquisition`) is ephemeral: it is constructed, immediately used, and destroyed during `BoTorchModel.gen`, so there is no reason to keep around an `Acquisition` instance. A `Surrogate`, on another hand, is kept in memory as long as its parent `BoTorchModel` is.\n",
    "\n",
    "**How to know when to use specify acquisition_class (and thereby a non-default Acquisition type) instead of just passing in botorch_acqf_class?** In short, custom `Acquisition` subclasses are needed when a given `AcquisitionFunction` in BoTorch needs some non-standard subcomponents or inputs (e.g. a custom BoTorch `AcquisitionObjective`). <TODO>\n",
    "\n",
    "**Please post any other questions you have to our dedicated issue on Github: https://github.com/facebook/Ax/issues/363.** This functionality is in beta-release and your feedback will be of great help to us!"
   ]
  },
  {
   "cell_type": "markdown",
   "id": "9ad90cb3",
   "metadata": {},
   "source": [
    "## 3. I know which Botorch `Model` and `AcquisitionFunction` I'd like to combine in Ax. How do set this up?"
   ]
  },
  {
   "cell_type": "markdown",
   "id": "fbfb9a1b",
   "metadata": {},
   "source": [
    "### 3a. Making a `Surrogate` from BoTorch `Model`:\n",
    "Most models should work with base `Surrogate` in Ax, except for BoTorch `ModelListGP`, which works with `ListSurrogate`. `ModelListGP` is a special case because its purpose is to combine multiple sub-models into a single `Model` in BoTorch. It is most commonly used for multi-task optimization.\n",
    "\n",
    "If your `Model` is not a `ModelListGP`, the steps to set it up as a `Surrogate` are:\n",
    "1. Implement a [`construct_inputs` class method](https://github.com/pytorch/botorch/blob/master/botorch/models/model.py#L143). The purpose of this method is to produce arguments to a particular model from a standardized set of inputs passed to BoTorch `Model`-s from [`Surrogate.construct`](https://github.com/facebook/Ax/blob/master/ax/models/torch/botorch_modular/surrogate.py#L148) in Ax. It should accept `TrainingData` and optionally other keyword arguments and produce a dictionary of arguments to `__init__` of the `Model`. See [`SingleTaskMultiFidelityGP.construct_inputs`](https://github.com/pytorch/botorch/blob/5b3172f3daa22f6ea2f6f4d1d0a378a9518dcd8d/botorch/models/gp_regression_fidelity.py#L131) for an example.\n",
    "2. Pass any additional needed keyword arguments for the `Model` constructor (that cannot be constructed from `TrainingData` and other arguments to `construct_inputs`) via `model_options` argument to `Surrogate`."
   ]
  },
  {
   "cell_type": "code",
   "execution_count": 22,
   "id": "6cc187a3",
   "metadata": {},
   "outputs": [],
   "source": [
    "surrogate = Surrogate(\n",
    "    botorch_model_class=MyModelClass,  # Must implement `construct_inputs`\n",
    "    # Optional dict of additional keyword arguments to `MyModelClass`\n",
    "    model_options={},\n",
    ")"
   ]
  },
  {
   "cell_type": "markdown",
   "id": "df551fc6",
   "metadata": {},
   "source": [
    "For a `ModelListGP`, the setup is similar, except that the surrogate is defined in terms of sub-models rather than one model. Both of the following options will work:"
   ]
  },
  {
   "cell_type": "code",
   "execution_count": null,
   "id": "a6e8ca41",
   "metadata": {},
   "outputs": [],
   "source": [
    "surrogate = ListSurrogate(\n",
    "    botorch_submodel_class_per_outcome={\n",
    "        \"metric_a\": MyModelClass, \n",
    "        \"metric_b\": MyOtherModelClass,\n",
    "    },\n",
    "    submodel_options_per_outcome={\"metric_a\": {}, \"metric_b\": {}},\n",
    ")"
   ]
  },
  {
   "cell_type": "code",
   "execution_count": null,
   "id": "7e92200c",
   "metadata": {},
   "outputs": [],
   "source": [
    "surrogate = ListSurrogate(\n",
    "    # Shortcut if all submodels are the same type\n",
    "    botorch_submodel_class=MyModelClass,\n",
    "    # Shortcut if all submodel options are the same\n",
    "    submodel_options={},\n",
    ")"
   ]
  },
  {
   "cell_type": "markdown",
   "id": "63ba1d24",
   "metadata": {},
   "source": [
    "### 3B. Using an arbitrary BoTorch `AcquisitionFunction` in Ax"
   ]
  },
  {
   "cell_type": "code",
   "execution_count": null,
   "id": "cf371c26",
   "metadata": {},
   "outputs": [],
   "source": []
  }
 ],
 "metadata": {
  "kernelspec": {
   "display_name": "Python 3",
   "language": "python",
   "name": "python3"
  },
  "language_info": {
   "codemirror_mode": {
    "name": "ipython",
    "version": 3
   },
   "file_extension": ".py",
   "mimetype": "text/x-python",
   "name": "python",
   "nbconvert_exporter": "python",
   "pygments_lexer": "ipython3",
   "version": "3.8.2"
  }
 },
 "nbformat": 4,
 "nbformat_minor": 5
}
